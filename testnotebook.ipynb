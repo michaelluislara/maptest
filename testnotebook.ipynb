{
 "cells": [
  {
   "cell_type": "code",
   "execution_count": 76,
   "metadata": {},
   "outputs": [],
   "source": [
    "from dash import Dash, html, dcc\n",
    "import plotly.express as px\n",
    "import pandas as pd\n",
    "import geopandas as gpd\n",
    "import flask\n",
    "\n",
    "geo_df = gpd.read_file('CEN_CENSUS_DIVISIONS_SVW.geojson')"
   ]
  },
  {
   "cell_type": "code",
   "execution_count": 86,
   "metadata": {},
   "outputs": [],
   "source": [
    "geo_df = gpd.read_file('CEN_CENSUS_DIVISIONS_SVW.geojson').set_index('CENSUS_DIVISION_NAME')"
   ]
  },
  {
   "cell_type": "code",
   "execution_count": 88,
   "metadata": {},
   "outputs": [],
   "source": [
    "bc=pd.read_csv('bc.csv')\n",
    "bc = bc[bc['CHARACTERISTIC_NAME'] == \"Unemployment rate\"]\n",
    "geo_df['CENSUS_DIVISION_ID'] = pd.to_numeric(geo_df['CENSUS_DIVISION_ID'])\n",
    "geo_df = geo_df.merge(bc, how='left', right_on='ALT_GEO_CODE', left_on='CENSUS_DIVISION_ID')"
   ]
  },
  {
   "cell_type": "code",
   "execution_count": 90,
   "metadata": {},
   "outputs": [
    {
     "name": "stdout",
     "output_type": "stream",
     "text": [
      "<class 'geopandas.geodataframe.GeoDataFrame'>\n",
      "Int64Index: 29 entries, 0 to 28\n",
      "Data columns (total 35 columns):\n",
      " #   Column                     Non-Null Count  Dtype   \n",
      "---  ------                     --------------  -----   \n",
      " 0   CENSUS_YEAR_x              29 non-null     int64   \n",
      " 1   CENSUS_DIVISION_ID         29 non-null     int64   \n",
      " 2   CENSUS_DIVISION_TYPE_CODE  29 non-null     object  \n",
      " 3   CENSUS_DIVISION_TYPE_DESC  29 non-null     object  \n",
      " 4   FEATURE_AREA_SQM           29 non-null     float64 \n",
      " 5   FEATURE_LENGTH_M           29 non-null     float64 \n",
      " 6   OBJECTID                   29 non-null     int64   \n",
      " 7   SE_ANNO_CAD_DATA           0 non-null      float64 \n",
      " 8   GEOMETRY.AREA              29 non-null     int64   \n",
      " 9   GEOMETRY.LEN               29 non-null     int64   \n",
      " 10  fme_feature_type           29 non-null     object  \n",
      " 11  geometry                   29 non-null     geometry\n",
      " 12  CENSUS_YEAR_y              29 non-null     int64   \n",
      " 13  DGUID                      29 non-null     object  \n",
      " 14  ALT_GEO_CODE               29 non-null     int64   \n",
      " 15  GEO_LEVEL                  29 non-null     object  \n",
      " 16  GEO_NAME                   29 non-null     object  \n",
      " 17  TNR_SF                     29 non-null     float64 \n",
      " 18  TNR_LF                     29 non-null     float64 \n",
      " 19  DATA_QUALITY_FLAG          29 non-null     int64   \n",
      " 20  CHARACTERISTIC_ID          29 non-null     int64   \n",
      " 21  CHARACTERISTIC_NAME        29 non-null     object  \n",
      " 22  CHARACTERISTIC_NOTE        0 non-null      float64 \n",
      " 23  C1_COUNT_TOTAL             29 non-null     float64 \n",
      " 24  SYMBOL                     0 non-null      object  \n",
      " 25  C2_COUNT_MEN+              29 non-null     float64 \n",
      " 26  SYMBOL.1                   0 non-null      object  \n",
      " 27  C3_COUNT_WOMEN+            29 non-null     float64 \n",
      " 28  SYMBOL.2                   0 non-null      object  \n",
      " 29  C10_RATE_TOTAL             29 non-null     float64 \n",
      " 30  SYMBOL.3                   0 non-null      object  \n",
      " 31  C11_RATE_MEN+              29 non-null     float64 \n",
      " 32  SYMBOL.4                   0 non-null      object  \n",
      " 33  C12_RATE_WOMEN+            29 non-null     float64 \n",
      " 34  SYMBOL.5                   0 non-null      object  \n",
      "dtypes: float64(12), geometry(1), int64(9), object(13)\n",
      "memory usage: 8.2+ KB\n"
     ]
    }
   ],
   "source": [
    "geo_df.info()"
   ]
  },
  {
   "cell_type": "code",
   "execution_count": null,
   "metadata": {},
   "outputs": [],
   "source": []
  }
 ],
 "metadata": {
  "kernelspec": {
   "display_name": "Python 3",
   "language": "python",
   "name": "python3"
  },
  "language_info": {
   "codemirror_mode": {
    "name": "ipython",
    "version": 3
   },
   "file_extension": ".py",
   "mimetype": "text/x-python",
   "name": "python",
   "nbconvert_exporter": "python",
   "pygments_lexer": "ipython3",
   "version": "3.10.4"
  },
  "orig_nbformat": 4,
  "vscode": {
   "interpreter": {
    "hash": "3ad933181bd8a04b432d3370b9dc3b0662ad032c4dfaa4e4f1596c548f763858"
   }
  }
 },
 "nbformat": 4,
 "nbformat_minor": 2
}
